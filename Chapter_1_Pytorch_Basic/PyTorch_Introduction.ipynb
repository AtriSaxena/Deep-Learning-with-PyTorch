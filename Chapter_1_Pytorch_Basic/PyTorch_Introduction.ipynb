{
 "cells": [
  {
   "cell_type": "markdown",
   "metadata": {},
   "source": [
    "![](https://ws2.sinaimg.cn/large/006tNc79ly1fmebdrkuawj30b3032a9w.jpg)"
   ]
  },
  {
   "cell_type": "markdown",
   "metadata": {},
   "source": [
    "# PyTorch\n",
    "\n",
    "PyTorch is an open source machine learning library for Python, based on Torch, used for applications such as natural language processing. It is primarily developed by Facebook's artificial-intelligence research group, and Uber's \"Pyro\" software for probabilistic programming is built on it.\n",
    "\n",
    "- https://pytorch.org/\n",
    "- https://github.com/pytorch/pytorch\n",
    "\n",
    "![](https://i.imgur.com/J07cZGR.png)"
   ]
  },
  {
   "cell_type": "markdown",
   "metadata": {},
   "source": [
    "PyTorch's predecessor was Torch, a very old tensor library for manipulating multidimensional matrix data. It is widely used in machine learning and other math-intensive applications, but because of its language using Lua, it has been Very small, now using the Python language to return strongly, quickly won a large number of users. PyTorch offers two high-level features: \n",
    "- Using powerful GPU-accelerated Tensor calculations (like numpy) \n",
    "- Built on deep neural networks based on the autograd system, \n",
    "\n",
    "there are usually two reasons for using PyTorch: \n",
    "- As an alternative to numpy, Use powerful GPU acceleration; \n",
    "- Use it as a deep learning research platform that provides maximum flexibility and speed"
   ]
  },
  {
   "cell_type": "markdown",
   "metadata": {},
   "source": [
    "### As a Python-first dynamic graph framework, PyTorch has the following features:\n",
    "\n",
    "* PyTorch doesn't simply bind Python to the overall C++ framework. It's built on top of Python. You can use PyTorch as easily as numpy/scipy/scikit-learn, or you can use your favorite libraries and packages in PyTorch.\n",
    "\n",
    "* PyTorch's design philosophy is linear, intuitive and easy to use. When you need to execute a line of code, it will execute faithfully. PyTorch has no asynchronous worldview. When you open the debugger, or receive error codes and stack traces, you will find it easy to understand the information. The Stack-trace point will point directly to the exact location of the code definition. We don't want you to waste time when debugging, because of incorrect pointing.\n",
    "\n",
    "* PyTorch has a lightweight framework that integrates various acceleration libraries such as Intel MKL, NVIDIA's CuDNN and NCCL to optimize speed. At its core, its CPU and GPU Tensor and neural network backends (TH, THC, THNN, THCUNN) are written as stand-alone libraries with the C99 API."
   ]
  },
  {
   "cell_type": "markdown",
   "metadata": {},
   "source": [
    "### Installation\n",
    "\n",
    "PyTorch is very easy to install and can be installed with Anaconda or with pip.\n",
    "\n",
    "* Install using conda\n",
    "<br><code>conda install pytorch torchvision cuda80 -c pytorch</code>\n",
    "\n",
    "* Using Pip \n",
    "<br><code>pip3 install http://download.pytorch.org/whl/cu80/torch-0.4.1-cp36-cp36m-linux_x86_64.whl \n",
    "pip3 install torchvision</code>"
   ]
  }
 ],
 "metadata": {
  "kernelspec": {
   "display_name": "Python 3",
   "language": "python",
   "name": "python3"
  },
  "language_info": {
   "codemirror_mode": {
    "name": "ipython",
    "version": 3
   },
   "file_extension": ".py",
   "mimetype": "text/x-python",
   "name": "python",
   "nbconvert_exporter": "python",
   "pygments_lexer": "ipython3",
   "version": "3.6.5"
  }
 },
 "nbformat": 4,
 "nbformat_minor": 2
}
